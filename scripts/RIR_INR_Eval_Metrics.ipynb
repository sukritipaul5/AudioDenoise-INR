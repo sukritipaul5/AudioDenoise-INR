{
  "nbformat": 4,
  "nbformat_minor": 0,
  "metadata": {
    "colab": {
      "provenance": []
    },
    "kernelspec": {
      "name": "python3",
      "display_name": "Python 3"
    },
    "language_info": {
      "name": "python"
    }
  },
  "cells": [
    {
      "cell_type": "markdown",
      "source": [
        "# RIR Eval Metrics\n",
        "\n",
        "Adapted from: https://github.com/schmiph2/pysepm/tree/master"
      ],
      "metadata": {
        "id": "PcRhaRM9dRUR"
      }
    },
    {
      "cell_type": "code",
      "execution_count": 1,
      "metadata": {
        "colab": {
          "base_uri": "https://localhost:8080/"
        },
        "id": "z673cDuIZw6I",
        "outputId": "8743a5c4-6c3d-4146-8532-013858fde99c"
      },
      "outputs": [
        {
          "output_type": "stream",
          "name": "stdout",
          "text": [
            "Collecting https://github.com/schmiph2/pysepm/archive/master.zip\n",
            "  Downloading https://github.com/schmiph2/pysepm/archive/master.zip\n",
            "\u001b[2K     \u001b[32m|\u001b[0m \u001b[32m1.8 MB\u001b[0m \u001b[31m13.3 MB/s\u001b[0m \u001b[33m0:00:00\u001b[0m\n",
            "\u001b[?25h  Installing build dependencies ... \u001b[?25l\u001b[?25hdone\n",
            "  Getting requirements to build wheel ... \u001b[?25l\u001b[?25hdone\n",
            "  Preparing metadata (pyproject.toml) ... \u001b[?25l\u001b[?25hdone\n",
            "Collecting pesq@ https://github.com/ludlows/python-pesq/archive/master.zip#egg=pesq (from pysepm==0.1)\n",
            "  Downloading https://github.com/ludlows/python-pesq/archive/master.zip\n",
            "\u001b[2K     \u001b[32m-\u001b[0m \u001b[32m223.1 kB\u001b[0m \u001b[31m31.8 MB/s\u001b[0m \u001b[33m0:00:00\u001b[0m\n",
            "\u001b[?25h  Preparing metadata (setup.py) ... \u001b[?25l\u001b[?25hdone\n",
            "Collecting SRMRpy@ https://github.com/jfsantos/SRMRpy/archive/master.zip#egg=SRMRpy (from pysepm==0.1)\n",
            "  Downloading https://github.com/jfsantos/SRMRpy/archive/master.zip\n",
            "\u001b[2K     \u001b[32m-\u001b[0m \u001b[32m39.3 kB\u001b[0m \u001b[31m57.9 MB/s\u001b[0m \u001b[33m0:00:00\u001b[0m\n",
            "\u001b[?25h  Preparing metadata (setup.py) ... \u001b[?25l\u001b[?25hdone\n",
            "Requirement already satisfied: numpy in /usr/local/lib/python3.10/dist-packages (from pysepm==0.1) (1.25.2)\n",
            "Requirement already satisfied: scipy in /usr/local/lib/python3.10/dist-packages (from pysepm==0.1) (1.11.4)\n",
            "Requirement already satisfied: numba in /usr/local/lib/python3.10/dist-packages (from pysepm==0.1) (0.58.1)\n",
            "Collecting pystoi (from pysepm==0.1)\n",
            "  Downloading pystoi-0.4.1-py2.py3-none-any.whl (8.2 kB)\n",
            "Requirement already satisfied: llvmlite<0.42,>=0.41.0dev0 in /usr/local/lib/python3.10/dist-packages (from numba->pysepm==0.1) (0.41.1)\n",
            "Collecting Gammatone@ https://github.com/detly/gammatone/archive/master.zip#egg=Gammatone (from SRMRpy@ https://github.com/jfsantos/SRMRpy/archive/master.zip#egg=SRMRpy->pysepm==0.1)\n",
            "  Downloading https://github.com/detly/gammatone/archive/master.zip\n",
            "\u001b[2K     \u001b[32m/\u001b[0m \u001b[32m59.4 MB\u001b[0m \u001b[31m146.2 MB/s\u001b[0m \u001b[33m0:00:04\u001b[0m\n",
            "\u001b[?25h  Preparing metadata (setup.py) ... \u001b[?25l\u001b[?25hdone\n",
            "Collecting nose (from Gammatone@ https://github.com/detly/gammatone/archive/master.zip#egg=Gammatone->SRMRpy@ https://github.com/jfsantos/SRMRpy/archive/master.zip#egg=SRMRpy->pysepm==0.1)\n",
            "  Downloading nose-1.3.7-py3-none-any.whl (154 kB)\n",
            "\u001b[2K     \u001b[90m━━━━━━━━━━━━━━━━━━━━━━━━━━━━━━━━━━━━━━━━\u001b[0m \u001b[32m154.7/154.7 kB\u001b[0m \u001b[31m3.2 MB/s\u001b[0m eta \u001b[36m0:00:00\u001b[0m\n",
            "\u001b[?25hCollecting mock (from Gammatone@ https://github.com/detly/gammatone/archive/master.zip#egg=Gammatone->SRMRpy@ https://github.com/jfsantos/SRMRpy/archive/master.zip#egg=SRMRpy->pysepm==0.1)\n",
            "  Downloading mock-5.1.0-py3-none-any.whl (30 kB)\n",
            "Requirement already satisfied: matplotlib in /usr/local/lib/python3.10/dist-packages (from Gammatone@ https://github.com/detly/gammatone/archive/master.zip#egg=Gammatone->SRMRpy@ https://github.com/jfsantos/SRMRpy/archive/master.zip#egg=SRMRpy->pysepm==0.1) (3.7.1)\n",
            "Requirement already satisfied: contourpy>=1.0.1 in /usr/local/lib/python3.10/dist-packages (from matplotlib->Gammatone@ https://github.com/detly/gammatone/archive/master.zip#egg=Gammatone->SRMRpy@ https://github.com/jfsantos/SRMRpy/archive/master.zip#egg=SRMRpy->pysepm==0.1) (1.2.1)\n",
            "Requirement already satisfied: cycler>=0.10 in /usr/local/lib/python3.10/dist-packages (from matplotlib->Gammatone@ https://github.com/detly/gammatone/archive/master.zip#egg=Gammatone->SRMRpy@ https://github.com/jfsantos/SRMRpy/archive/master.zip#egg=SRMRpy->pysepm==0.1) (0.12.1)\n",
            "Requirement already satisfied: fonttools>=4.22.0 in /usr/local/lib/python3.10/dist-packages (from matplotlib->Gammatone@ https://github.com/detly/gammatone/archive/master.zip#egg=Gammatone->SRMRpy@ https://github.com/jfsantos/SRMRpy/archive/master.zip#egg=SRMRpy->pysepm==0.1) (4.51.0)\n",
            "Requirement already satisfied: kiwisolver>=1.0.1 in /usr/local/lib/python3.10/dist-packages (from matplotlib->Gammatone@ https://github.com/detly/gammatone/archive/master.zip#egg=Gammatone->SRMRpy@ https://github.com/jfsantos/SRMRpy/archive/master.zip#egg=SRMRpy->pysepm==0.1) (1.4.5)\n",
            "Requirement already satisfied: packaging>=20.0 in /usr/local/lib/python3.10/dist-packages (from matplotlib->Gammatone@ https://github.com/detly/gammatone/archive/master.zip#egg=Gammatone->SRMRpy@ https://github.com/jfsantos/SRMRpy/archive/master.zip#egg=SRMRpy->pysepm==0.1) (24.0)\n",
            "Requirement already satisfied: pillow>=6.2.0 in /usr/local/lib/python3.10/dist-packages (from matplotlib->Gammatone@ https://github.com/detly/gammatone/archive/master.zip#egg=Gammatone->SRMRpy@ https://github.com/jfsantos/SRMRpy/archive/master.zip#egg=SRMRpy->pysepm==0.1) (9.4.0)\n",
            "Requirement already satisfied: pyparsing>=2.3.1 in /usr/local/lib/python3.10/dist-packages (from matplotlib->Gammatone@ https://github.com/detly/gammatone/archive/master.zip#egg=Gammatone->SRMRpy@ https://github.com/jfsantos/SRMRpy/archive/master.zip#egg=SRMRpy->pysepm==0.1) (3.1.2)\n",
            "Requirement already satisfied: python-dateutil>=2.7 in /usr/local/lib/python3.10/dist-packages (from matplotlib->Gammatone@ https://github.com/detly/gammatone/archive/master.zip#egg=Gammatone->SRMRpy@ https://github.com/jfsantos/SRMRpy/archive/master.zip#egg=SRMRpy->pysepm==0.1) (2.8.2)\n",
            "Requirement already satisfied: six>=1.5 in /usr/local/lib/python3.10/dist-packages (from python-dateutil>=2.7->matplotlib->Gammatone@ https://github.com/detly/gammatone/archive/master.zip#egg=Gammatone->SRMRpy@ https://github.com/jfsantos/SRMRpy/archive/master.zip#egg=SRMRpy->pysepm==0.1) (1.16.0)\n",
            "Building wheels for collected packages: pysepm, pesq, SRMRpy, Gammatone\n",
            "  Building wheel for pysepm (pyproject.toml) ... \u001b[?25l\u001b[?25hdone\n",
            "  Created wheel for pysepm: filename=pysepm-0.1-py3-none-any.whl size=24291 sha256=0fab3e61791ece72e6464dd144d902a3daea6ac8f438f6e2c175e9d54217f46c\n",
            "  Stored in directory: /tmp/pip-ephem-wheel-cache-v9qrr2vu/wheels/90/39/b8/6307733bc5df0a99568f88ac06d98352c79425f1045524c156\n",
            "  Building wheel for pesq (setup.py) ... \u001b[?25l\u001b[?25hdone\n",
            "  Created wheel for pesq: filename=pesq-0.0.4-cp310-cp310-linux_x86_64.whl size=262439 sha256=cccdb734eb279279cab699c866375a39a4374e359c0083e9c5b8054064cc08fe\n",
            "  Stored in directory: /tmp/pip-ephem-wheel-cache-v9qrr2vu/wheels/3d/7d/9f/9e1d63dc212910a515ac320c8ebfa8467839b0fef3fc1bb57f\n",
            "  Building wheel for SRMRpy (setup.py) ... \u001b[?25l\u001b[?25hdone\n",
            "  Created wheel for SRMRpy: filename=SRMRpy-1.0-py3-none-any.whl size=9363 sha256=eaa810c56aa3a23c3284f6da9285e987f80088a9ee4c967a02352d91e8b1c2c3\n",
            "  Stored in directory: /tmp/pip-ephem-wheel-cache-v9qrr2vu/wheels/9b/51/3a/68d1b8f3d0c9954416b967547e478c8556f3473af1e5df96fb\n",
            "  Building wheel for Gammatone (setup.py) ... \u001b[?25l\u001b[?25hdone\n",
            "  Created wheel for Gammatone: filename=Gammatone-1.0-py3-none-any.whl size=21760 sha256=6a51ab1d86ff08d1550b74ec6ac46a486a2aec0b5f60034ebca6b870623b5348\n",
            "  Stored in directory: /tmp/pip-ephem-wheel-cache-v9qrr2vu/wheels/f7/33/eb/6c0c33ef9ad7fcd7e1355e77994e88a22ce62d68a417260660\n",
            "Successfully built pysepm pesq SRMRpy Gammatone\n",
            "Installing collected packages: pesq, nose, mock, pystoi, Gammatone, SRMRpy, pysepm\n",
            "Successfully installed Gammatone-1.0 SRMRpy-1.0 mock-5.1.0 nose-1.3.7 pesq-0.0.4 pysepm-0.1 pystoi-0.4.1\n"
          ]
        }
      ],
      "source": [
        "!pip3 install https://github.com/schmiph2/pysepm/archive/master.zip"
      ]
    },
    {
      "cell_type": "code",
      "source": [
        "from scipy.io import wavfile\n",
        "import sys\n",
        "import pysepm"
      ],
      "metadata": {
        "colab": {
          "base_uri": "https://localhost:8080/"
        },
        "id": "ajsPQwW7ZyC7",
        "outputId": "48766df9-3d44-4bd0-de74-75e8b8e86237"
      },
      "execution_count": 4,
      "outputs": [
        {
          "output_type": "stream",
          "name": "stderr",
          "text": [
            "/usr/local/lib/python3.10/dist-packages/pysepm/qualityMeasures.py:121: NumbaDeprecationWarning: The 'nopython' keyword argument was not supplied to the 'numba.jit' decorator. The implicit default value for this argument is currently False, but it will be changed to True in Numba 0.59.0. See https://numba.readthedocs.io/en/stable/reference/deprecation.html#deprecation-of-object-mode-fall-back-behaviour-when-using-jit for details.\n",
            "  def lpcoeff(speech_frame, model_order):\n",
            "/usr/local/lib/python3.10/dist-packages/pysepm/qualityMeasures.py:209: NumbaDeprecationWarning: The 'nopython' keyword argument was not supplied to the 'numba.jit' decorator. The implicit default value for this argument is currently False, but it will be changed to True in Numba 0.59.0. See https://numba.readthedocs.io/en/stable/reference/deprecation.html#deprecation-of-object-mode-fall-back-behaviour-when-using-jit for details.\n",
            "  def find_loc_peaks(slope,energy):\n",
            "/usr/local/lib/python3.10/dist-packages/pysepm/qualityMeasures.py:383: NumbaDeprecationWarning: The 'nopython' keyword argument was not supplied to the 'numba.jit' decorator. The implicit default value for this argument is currently False, but it will be changed to True in Numba 0.59.0. See https://numba.readthedocs.io/en/stable/reference/deprecation.html#deprecation-of-object-mode-fall-back-behaviour-when-using-jit for details.\n",
            "  def lpc2cep(a):\n"
          ]
        }
      ]
    },
    {
      "cell_type": "code",
      "source": [
        "from google.colab import drive\n",
        "\n",
        "drive.mount('/content/drive/')\n",
        "clean_speech_path='/content/drive/MyDrive/XR-Project/307-127535-0021.wav'\n",
        "reconstructed_speech_path= '/content/drive/MyDrive/XR-Project/307-127535-0021_lr_0.0001_epoch_5000.wav'"
      ],
      "metadata": {
        "colab": {
          "base_uri": "https://localhost:8080/"
        },
        "id": "hfK-uta_Z-Nx",
        "outputId": "4d7dfeda-f677-4011-d4e6-b7e500241f81"
      },
      "execution_count": 19,
      "outputs": [
        {
          "output_type": "stream",
          "name": "stdout",
          "text": [
            "Drive already mounted at /content/drive/; to attempt to forcibly remount, call drive.mount(\"/content/drive/\", force_remount=True).\n"
          ]
        }
      ]
    },
    {
      "cell_type": "code",
      "source": [
        "fs, clean_speech = wavfile.read(clean_speech_path)\n",
        "fs, reconstructed_speech = wavfile.read(reconstructed_speech_path)"
      ],
      "metadata": {
        "id": "mTU9dyDHb1dB"
      },
      "execution_count": 8,
      "outputs": []
    },
    {
      "cell_type": "code",
      "source": [
        "print(f'fwSNRseg: {pysepm.fwSNRseg(clean_speech, reconstructed_speech, fs):.3f}')\n",
        "print(f'LLR: {pysepm.llr(clean_speech, reconstructed_speech, fs):.3f}')\n",
        "print(f'CD: {pysepm.cepstrum_distance(clean_speech, reconstructed_speech, fs):.3f}')\n",
        "print(f'STOI: {pysepm.stoi(clean_speech, reconstructed_speech, fs):.3f}')\n",
        "print(f'PESQ: {pysepm.pesq(clean_speech, reconstructed_speech, fs)}')\n",
        "print(f'SRMR: {pysepm.srmr(reconstructed_speech, fs): .3f}')"
      ],
      "metadata": {
        "colab": {
          "base_uri": "https://localhost:8080/"
        },
        "id": "_8axjBouaZ-O",
        "outputId": "836ed0c1-289d-44e2-d8e4-b1787cdcd23c"
      },
      "execution_count": 26,
      "outputs": [
        {
          "output_type": "stream",
          "name": "stdout",
          "text": [
            "fwSNRseg: 13.014\n",
            "LLR: 1.626\n",
            "CD: 8.144\n",
            "STOI: 0.957\n",
            "PESQ: (nan, 1.8605079650878906)\n",
            "SRMR:  3.993\n"
          ]
        }
      ]
    }
  ]
}